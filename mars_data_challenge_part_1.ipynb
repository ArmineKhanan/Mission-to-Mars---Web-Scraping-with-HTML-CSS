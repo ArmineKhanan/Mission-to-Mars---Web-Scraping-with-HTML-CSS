{
 "cells": [
  {
   "cell_type": "markdown",
   "id": "a072a5f6",
   "metadata": {},
   "source": [
    "# Deliverable 1"
   ]
  },
  {
   "cell_type": "code",
   "execution_count": 1,
   "id": "169b00c9",
   "metadata": {},
   "outputs": [],
   "source": [
    "# Import dependencies\n",
    "from splinter import Browser\n",
    "from bs4 import BeautifulSoup as soup\n",
    "from webdriver_manager.chrome import ChromeDriverManager"
   ]
  },
  {
   "cell_type": "code",
   "execution_count": 2,
   "id": "5833335b",
   "metadata": {},
   "outputs": [],
   "source": [
    "# Set up Splinter\n",
    "executable_path = {'executable_path': ChromeDriverManager().install()}\n",
    "browser = Browser('chrome', **executable_path, headless=False)"
   ]
  },
  {
   "cell_type": "code",
   "execution_count": 3,
   "id": "2e6ca166",
   "metadata": {},
   "outputs": [],
   "source": [
    "# Visit  Mars News website to Scrape site\n",
    "url = 'https://redplanetscience.com/'\n",
    "browser.visit(url)"
   ]
  },
  {
   "cell_type": "code",
   "execution_count": 4,
   "id": "d0d3e92b",
   "metadata": {},
   "outputs": [],
   "source": [
    "# Parse the HTML\n",
    "html = browser.html\n",
    "title_and_preview_soup = soup(html, 'html.parser')"
   ]
  },
  {
   "cell_type": "code",
   "execution_count": 5,
   "id": "8b56c3bc",
   "metadata": {},
   "outputs": [],
   "source": [
    "# Scrape the title of each article on the landing page.\n",
    "titles_0 = title_and_preview_soup.find_all('div', class_='content_title')\n",
    "titles = [title.text for title in titles_0]"
   ]
  },
  {
   "cell_type": "code",
   "execution_count": 6,
   "id": "6f562f11",
   "metadata": {},
   "outputs": [],
   "source": [
    "# Scrape the title preview text of each article on the landing page.\n",
    "previews_0 = title_and_preview_soup.find_all('div', class_='article_teaser_body')\n",
    "previews = [preview.text for preview in previews_0]"
   ]
  },
  {
   "cell_type": "code",
   "execution_count": 7,
   "id": "bfdfdaf3",
   "metadata": {},
   "outputs": [
    {
     "data": {
      "text/plain": [
       "[{'title': \"NASA's Mars 2020 Rover Closer to Getting Its Name\",\n",
       "  'preview': \"155 students from across the U.S. have been chosen as semifinalists in NASA's essay contest to name the Mars 2020 rover, and see it launch from Cape Canaveral this July.\"},\n",
       " {'title': \"How NASA's Mars Helicopter Will Reach the Red Planet's Surface\",\n",
       "  'preview': 'The small craft will seek to prove that powered, controlled flight is possible on another planet. But just getting it onto the surface of Mars will take a whole lot of ingenuity.'},\n",
       " {'title': \"The Detective Aboard NASA's Perseverance Rover\",\n",
       "  'preview': 'An instrument called SHERLOC will, with the help of its partner WATSON, hunt for signs of ancient life by detecting organic molecules and minerals.'},\n",
       " {'title': \"NASA's Ingenuity Mars Helicopter Recharges Its Batteries in Flight\",\n",
       "  'preview': 'Headed to the Red Planet with the Perseverance rover, the pioneering helicopter is powered up for the first time in interplanetary space as part of a systems check.'},\n",
       " {'title': \"A Martian Roundtrip: NASA's Perseverance Rover Sample Tubes\",\n",
       "  'preview': \"Marvels of engineering, the rover's sample tubes must be tough enough to safely bring Red Planet samples on the long journey back to Earth in immaculate condition. \"},\n",
       " {'title': 'NASA to Hold Mars 2020 Perseverance Rover Launch Briefing',\n",
       "  'preview': \"Learn more about the agency's next Red Planet mission during a live event on June 17.\"},\n",
       " {'title': \"Celebrate Mars Reconnaissance Orbiter's Views From Above\",\n",
       "  'preview': 'Marking its 15th anniversary since launch, one of the oldest spacecraft at the Red Planet has provided glimpses of dust devils, avalanches, and more.'},\n",
       " {'title': \"NASA Readies Perseverance Mars Rover's Earthly Twin \",\n",
       "  'preview': \"Did you know NASA's next Mars rover has a nearly identical sibling on Earth for testing? Even better, it's about to roll for the first time through a replica Martian landscape.\"},\n",
       " {'title': 'NASA Wins Two Emmy Awards for Interactive Mission Coverage',\n",
       "  'preview': \"NASA-JPL's coverage of the Mars InSight landing earns one of the two wins, making this the NASA center's second Emmy.\"},\n",
       " {'title': \"NASA's Curiosity Keeps Rolling As Team Operates Rover From Home\",\n",
       "  'preview': 'The team has learned to meet new challenges as they work remotely on the Mars mission.'},\n",
       " {'title': 'NASA Prepares for Moon and Mars With New Addition to Its Deep Space Network',\n",
       "  'preview': 'Robotic spacecraft will be able to communicate with the dish using radio waves and lasers.'},\n",
       " {'title': \"NASA's Push to Save the Mars InSight Lander's Heat Probe\",\n",
       "  'preview': \"The scoop on the end of the spacecraft's robotic arm will be used to 'pin' the mole against the wall of its hole.\"},\n",
       " {'title': 'Mars Scientists Investigate Ancient Life in Australia',\n",
       "  'preview': \"Teams with NASA's Mars 2020 and ESA's ExoMars practiced hunting for fossilized microbial life in the Australian Outback in preparation for their Red Planet missions. \"},\n",
       " {'title': \"8 Martian Postcards to Celebrate Curiosity's Landing Anniversary\",\n",
       "  'preview': 'The NASA rover touched down eight years ago, on Aug. 5, 2012, and will soon be joined by a second rover, Perseverance.'},\n",
       " {'title': \"HiRISE Views NASA's InSight and Curiosity on Mars\",\n",
       "  'preview': 'New images taken from space offer the clearest orbital glimpse yet of InSight as well as a view of Curiosity rolling along.'}]"
      ]
     },
     "execution_count": 7,
     "metadata": {},
     "output_type": "execute_result"
    }
   ],
   "source": [
    "# Store each title-and-preview pair in a Python dictionary. And, give each dictionary two keys: title and preview.\n",
    "# Store all the dictionaries in a Python list.\n",
    "import itertools \n",
    "list_of_dictionaries = []\n",
    "for (n, m) in zip(titles, previews):\n",
    "    list_of_dictionaries.append({'title': n, 'preview': m})\n",
    "\n",
    "# Print the list in your notebook.\n",
    "list_of_dictionaries"
   ]
  },
  {
   "cell_type": "code",
   "execution_count": 8,
   "id": "e966bbad",
   "metadata": {},
   "outputs": [],
   "source": [
    "# Export the scraped data to a JSON file\n",
    "import json\n",
    "json = json.dumps(list_of_dictionaries, indent=4)"
   ]
  },
  {
   "cell_type": "code",
   "execution_count": 9,
   "id": "2c2caccb",
   "metadata": {},
   "outputs": [],
   "source": [
    "# Convert dictionary to a DataFrame\n",
    "import pandas as pd\n",
    "mars_df = pd.DataFrame(list_of_dictionaries)\n",
    "j_path = 'Mars_news.json'\n",
    "\n",
    "# Export the DataFrame to json\n",
    "mars_df.to_json(path_or_buf = j_path, orient = 'records')"
   ]
  }
 ],
 "metadata": {
  "kernelspec": {
   "display_name": "Python 3 (ipykernel)",
   "language": "python",
   "name": "python3"
  },
  "language_info": {
   "codemirror_mode": {
    "name": "ipython",
    "version": 3
   },
   "file_extension": ".py",
   "mimetype": "text/x-python",
   "name": "python",
   "nbconvert_exporter": "python",
   "pygments_lexer": "ipython3",
   "version": "3.9.12"
  }
 },
 "nbformat": 4,
 "nbformat_minor": 5
}
